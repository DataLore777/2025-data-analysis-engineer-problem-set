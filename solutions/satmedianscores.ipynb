{
 "cells": [
  {
   "cell_type": "markdown",
   "metadata": {},
   "source": [
    "Identify the IDs of students who scored exactly at the median for the SAT writing section.\n",
    "\n",
    "Table: sat_scores\n",
    "\n",
    "sat_scores\n",
    "average_sat:double precision\n",
    "hrs_studied:double precision\n",
    "id:bigint\n",
    "love:double precision\n",
    "sat_math:double precision\n",
    "sat_verbal:double precision\n",
    "sat_writing:double precision\n",
    "school:text\n",
    "student_id:double precision\n",
    "teacher:text"
   ]
  },
  {
   "cell_type": "code",
   "execution_count": null,
   "metadata": {},
   "outputs": [],
   "source": [
    "WITH median_value AS\n",
    "    (SELECT \n",
    "        PERCENTILE_CONT(0.5) WITHIN GROUP (ORDER BY sat_writing) AS median_writing_score\n",
    "    FROM sat_scores)\n",
    "\n",
    "SELECT\n",
    "    student_id\n",
    "FROM sat_scores\n",
    "WHERE sat_writing = (SELECT median_writing_score FROM median_value);"
   ]
  }
 ],
 "metadata": {
  "language_info": {
   "name": "python"
  }
 },
 "nbformat": 4,
 "nbformat_minor": 2
}
