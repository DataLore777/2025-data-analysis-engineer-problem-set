{
 "cells": [
  {
   "cell_type": "markdown",
   "metadata": {},
   "source": [
    "For each video, find how many unique users flagged it. A unique user can be identified using the combination of their first name and last name. Do not consider rows in which there is no flag ID.\n",
    "\n",
    "Table: user_flags\n",
    "\n",
    "user_flags\n",
    "flag_id:text\n",
    "user_firstname:text\n",
    "user_lastname:text\n",
    "video_id:text"
   ]
  },
  {
   "cell_type": "code",
   "execution_count": null,
   "metadata": {},
   "outputs": [],
   "source": [
    "SELECT\n",
    "    video_id,\n",
    "    COUNT(DISTINCT CONCAT(user_firstname, ' ', user_lastname)) AS unique_user_count\n",
    "FROM user_flags\n",
    "WHERE flag_id IS NOT NULL\n",
    "GROUP BY video_id\n",
    "ORDER BY unique_user_count DESC;"
   ]
  }
 ],
 "metadata": {
  "language_info": {
   "name": "python"
  }
 },
 "nbformat": 4,
 "nbformat_minor": 2
}
