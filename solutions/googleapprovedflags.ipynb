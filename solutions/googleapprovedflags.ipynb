{
 "cells": [
  {
   "cell_type": "markdown",
   "metadata": {},
   "source": [
    "https://platform.stratascratch.com/coding/2104-user-with-most-approved-flags?code_type=1\n",
    "\n",
    "Which user flagged the most distinct videos that ended up approved by YouTube? Output, in one column, their full name or names in case of a tie. In the user's full name, include a space between the first and the last name.\n",
    "\n",
    "Tables: user_flags, flag_review\n",
    "\n",
    "user_flags\n",
    "flag_id:text\n",
    "user_firstname:text\n",
    "user_lastname:text\n",
    "video_id:text\n",
    "\n",
    "flag_review\n",
    "flag_id:text\n",
    "reviewed_by_yt:boolean\n",
    "reviewed_date:date\n",
    "reviewed_outcome:text"
   ]
  },
  {
   "cell_type": "code",
   "execution_count": null,
   "metadata": {},
   "outputs": [],
   "source": [
    "WITH \n",
    "    flagged_videos AS\n",
    "        (SELECT\n",
    "            CONCAT(u.user_firstname, ' ', u.user_lastname) AS unique_user,\n",
    "            u.video_id\n",
    "        FROM user_flags AS u\n",
    "        JOIN flag_review AS f\n",
    "            ON u.flag_id = f.flag_id\n",
    "        WHERE\n",
    "            LOWER(f.reviewed_outcome) = 'approved'),\n",
    "    \n",
    "    user_flag_counts AS\n",
    "        (SELECT unique_user,\n",
    "            COUNT(DISTINCT video_id) AS distinct_video_count\n",
    "        FROM flagged_videos\n",
    "        GROUP BY unique_user),\n",
    "    \n",
    "    ranked_users AS\n",
    "        (SELECT unique_user,\n",
    "            DENSE_RANK() OVER(\n",
    "                ORDER BY distinct_video_count DESC) AS rn\n",
    "        FROM user_flag_counts)\n",
    "\n",
    "SELECT unique_user\n",
    "FROM ranked_users\n",
    "WHERE rn = 1;"
   ]
  }
 ],
 "metadata": {
  "language_info": {
   "name": "python"
  }
 },
 "nbformat": 4,
 "nbformat_minor": 2
}
