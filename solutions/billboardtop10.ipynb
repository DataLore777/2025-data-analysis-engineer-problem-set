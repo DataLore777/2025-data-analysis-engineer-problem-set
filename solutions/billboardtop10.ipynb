{
 "cells": [
  {
   "cell_type": "markdown",
   "metadata": {},
   "source": [
    "Find the top 10 ranked songs in 2010. Output the rank, group name, and song name, but do not show the same song twice. Sort the result based on the rank in ascending order.\n",
    "\n",
    "Table: billboard_top_100_year_end\n",
    "\n",
    "billboard_top_100_year_end\n",
    "\n",
    "artist:text\n",
    "group_name:text\n",
    "id:bigint\n",
    "song_name:text\n",
    "year:bigint\n",
    "year_rank:bigint"
   ]
  },
  {
   "cell_type": "code",
   "execution_count": null,
   "metadata": {},
   "outputs": [],
   "source": [
    "SELECT DISTINCT\n",
    "    year_rank,\n",
    "    group_name,\n",
    "    song_name\n",
    "FROM billboard_top_100_year_end\n",
    "WHERE year = 2010\n",
    "LIMIT 10;"
   ]
  }
 ],
 "metadata": {
  "language_info": {
   "name": "python"
  }
 },
 "nbformat": 4,
 "nbformat_minor": 2
}
